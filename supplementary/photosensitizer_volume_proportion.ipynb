{
 "cells": [
  {
   "cell_type": "markdown",
   "metadata": {},
   "source": [
    "# Defining chemical dimensions"
   ]
  },
  {
   "cell_type": "code",
   "execution_count": 29,
   "metadata": {},
   "outputs": [],
   "source": [
    "from math import sin, cos, radians\n",
    "from scipy.constants import angstrom, micro, milli, liter, N_A\n",
    "from to_precision import sci_notation\n",
    "sigfigs = 2\n",
    "\n",
    "def average(num_1, num_2 = None):\n",
    "    if num_2 is not None:\n",
    "        numbers = [num_1, num_2]\n",
    "        average = sum(numbers) / len(numbers)\n",
    "        return average\n",
    "    else:\n",
    "        return num_1\n",
    "\n",
    "# chemical dimensions in Angstroms (as the averages from https://en.wikipedia.org/wiki/Bond_length) and degrees\n",
    "chemical_dimensions = {\n",
    "    'bond':{\n",
    "        'c-c':average(1.2,1.54),\n",
    "        'c-h':average(1.06,1.12),\n",
    "        'c-n':average(1.47,2.1),\n",
    "        'c-f':average(1.34),\n",
    "        'n=n':average(1.23) # https://doi.org/10.1016/B978-0-08-101033-4.00003-6\n",
    "    },\n",
    "    'angle':{\n",
    "        'sp3':109.5,\n",
    "        'sp2':120\n",
    "    }\n",
    "}"
   ]
  },
  {
   "cell_type": "markdown",
   "metadata": {},
   "source": [
    "# calculating the porphyrin dimensions"
   ]
  },
  {
   "cell_type": "code",
   "execution_count": 32,
   "metadata": {},
   "outputs": [
    {
     "name": "stdout",
     "output_type": "stream",
     "text": [
      "The center porphyrin object is 6.1e0 angstroms\n",
      "The benzyl extension is 6.1e0 angstroms\n",
      "The diazirine is 7.2e0 angstroms\n",
      "The molecular length is 3.3e1 angstroms\n",
      "The molecular thickness is 8.5e0 angstroms\n",
      "The molecular volume is 9.3e-27 cubic meters\n",
      "The photosensitizer volume proportion is 7.778598481666667e-05\n"
     ]
    }
   ],
   "source": [
    "# determine the individual molecular components\n",
    "center_porphyrin_length = sci_notation(2*(chemical_dimensions['bond']['c-c']*(2*cos(radians(chemical_dimensions['angle']['sp2']-90))+cos(radians(180-chemical_dimensions['angle']['sp2'])))), sigfigs)\n",
    "print(f'The center porphyrin object is {center_porphyrin_length} angstroms')\n",
    "\n",
    "sp2_extension = sci_notation(chemical_dimensions['bond']['c-c'] * (2 + cos(radians(180-chemical_dimensions['angle']['sp2']))) + chemical_dimensions['bond']['c-n'] * cos(radians(180-chemical_dimensions['angle']['sp2'])) + chemical_dimensions['bond']['c-n'], sigfigs)\n",
    "print(f'The benzyl extension is {sp2_extension} angstroms')\n",
    "\n",
    "sp3_diazirine = sci_notation(chemical_dimensions['bond']['c-c']*cos(radians(chemical_dimensions['angle']['sp3']-90)) + 2*chemical_dimensions['bond']['c-c']*(1+cos(radians(180-chemical_dimensions['angle']['sp2']))) + chemical_dimensions['bond']['c-c']*sin(radians(chemical_dimensions['angle']['sp3']-90)) + chemical_dimensions['bond']['c-f'], sigfigs)\n",
    "print(f'The diazirine is {sp3_diazirine} angstroms')\n",
    "\n",
    "diazirine_length = float(sp2_extension) + float(sp3_diazirine)\n",
    "\n",
    "# determine the molecular dimensions\n",
    "length = sci_notation(float(center_porphyrin_length) + 2*diazirine_length, sigfigs)\n",
    "min_thickness = 2*chemical_dimensions['bond']['c-f']*sin(radians(chemical_dimensions['angle']['sp3']))\n",
    "max_thickness = 2*float(sp3_diazirine)\n",
    "thickness = sci_notation(average(min_thickness, max_thickness), sigfigs)\n",
    "print(f'The molecular length is {length} angstroms')\n",
    "print(f'The molecular thickness is {thickness} angstroms')\n",
    "\n",
    "# calculate the molecular volume in meters\n",
    "molecular_volume = sci_notation((float(length) * angstrom)**2 * (float(thickness) * angstrom), sigfigs)\n",
    "print(f'The molecular volume is {molecular_volume} cubic meters')\n",
    "\n",
    "# calculate the proportion of well volume that is constituted by \n",
    "well_solution_volume = 0.75 * micro * liter\n",
    "num_photosensitizers_well = (milli*N_A)*(liter*milli)/96 # 1 millimolar, with one 1 mL, per one of 96 wells\n",
    "proportion = num_photosensitizers_well*float(molecular_volume) / well_solution_volume\n",
    "print(f'The photosensitizer volume proportion is {proportion}')"
   ]
  },
  {
   "cell_type": "code",
   "execution_count": null,
   "metadata": {},
   "outputs": [],
   "source": []
  }
 ],
 "metadata": {
  "kernelspec": {
   "display_name": "Python 3",
   "language": "python",
   "name": "python3"
  },
  "language_info": {
   "codemirror_mode": {
    "name": "ipython",
    "version": 3
   },
   "file_extension": ".py",
   "mimetype": "text/x-python",
   "name": "python",
   "nbconvert_exporter": "python",
   "pygments_lexer": "ipython3",
   "version": "3.7.4"
  }
 },
 "nbformat": 4,
 "nbformat_minor": 2
}
