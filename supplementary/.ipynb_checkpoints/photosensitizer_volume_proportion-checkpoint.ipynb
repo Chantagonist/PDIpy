{
 "cells": [
  {
   "cell_type": "markdown",
   "metadata": {},
   "source": [
    "# Defining chemical dimensions"
   ]
  },
  {
   "cell_type": "code",
   "execution_count": 10,
   "metadata": {},
   "outputs": [],
   "source": [
    "from math import sin, cos, radians\n",
    "from to_precision import sci_notation\n",
    "\n",
    "def average(num_1, num_2 = None):\n",
    "    if num_2 is not None:\n",
    "        numbers = [num_1, num_2]\n",
    "        average = sum(numbers) / len(numbers)\n",
    "        return average\n",
    "    else:\n",
    "        return num_1\n",
    "\n",
    "# chemical dimensions in Angstroms (as the averages from https://en.wikipedia.org/wiki/Bond_length) and degrees\n",
    "chemical_dimensions = {\n",
    "    'bond':{\n",
    "        'c-c':average(1.2,1.54),\n",
    "        'c-h':average(1.06,1.12),\n",
    "        'c-n':average(1.47,2.1),\n",
    "        'c-f':average(1.34)\n",
    "    },\n",
    "    'angle':{\n",
    "        'sp3':109.5,\n",
    "        'sp2':120,\n",
    "        'sp':180\n",
    "    }\n",
    "}"
   ]
  },
  {
   "cell_type": "markdown",
   "metadata": {},
   "source": [
    "# calculating the porphyrin dimensions"
   ]
  },
  {
   "cell_type": "code",
   "execution_count": 13,
   "metadata": {},
   "outputs": [
    {
     "name": "stdout",
     "output_type": "stream",
     "text": [
      "center porphyrin object is 6.12e0 angstroms\n"
     ]
    }
   ],
   "source": [
    "center_porphyrin_length = sci_notation(2*(chemical_dimensions['bond']['c-c']*(2*cos(radians(30))+cos(radians(60)))), 3)\n",
    "print(f'The center porphyrin object is {center_porphyrin_length} angstroms')\n",
    "\n"
   ]
  },
  {
   "cell_type": "code",
   "execution_count": null,
   "metadata": {},
   "outputs": [],
   "source": []
  }
 ],
 "metadata": {
  "kernelspec": {
   "display_name": "Python 3",
   "language": "python",
   "name": "python3"
  },
  "language_info": {
   "codemirror_mode": {
    "name": "ipython",
    "version": 3
   },
   "file_extension": ".py",
   "mimetype": "text/x-python",
   "name": "python",
   "nbconvert_exporter": "python",
   "pygments_lexer": "ipython3",
   "version": "3.7.4"
  }
 },
 "nbformat": 4,
 "nbformat_minor": 2
}
