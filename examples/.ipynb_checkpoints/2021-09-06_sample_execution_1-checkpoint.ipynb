{
 "cells": [
  {
   "cell_type": "markdown",
   "metadata": {},
   "source": [
    "# Execute the module"
   ]
  },
  {
   "cell_type": "code",
   "execution_count": 11,
   "metadata": {},
   "outputs": [
    {
     "name": "stdout",
     "output_type": "stream",
     "text": [
      "3.875991916388153e-19\n",
      "molecular oxygen molecules:  2.10945410452892e-13\n",
      "singlet oxygen molecules:  4.390406489502359e+16\n",
      "oxidized volume proportion:  0.004489357960933581\n",
      "oxidized area proportion:  0.0019026509541272274 \n",
      "\n",
      "\n",
      "// Created by libAntimony v2.12.0.3\n",
      "model *pdi_oxidation()\n",
      "\n",
      "  // Compartments and Species:\n",
      "  species o, so, fa17, ofa, fa15;\n",
      "\n",
      "  // Assignment Rules:\n",
      "  oxidation := ofa/(ofa + fa15 + fa17);\n",
      "\n",
      "  // Reactions:\n",
      "  _J0: o -> so; 351232519160189*o;\n",
      "  _J1: so + fa17 -> ofa; 1*so*fa17 - 5*ofa;\n",
      "  _J2: so + fa15 -> ofa; 1*so*fa15 - 5*ofa;\n",
      "\n",
      "  // Species initializations:\n",
      "  o = 2.10945410452892e-13;\n",
      "  so = 0;\n",
      "  fa17 = 1.14787140286013e-20;\n",
      "  ofa = 0;\n",
      "  fa15 = 1.27394662087517e-20;\n",
      "\n",
      "  // Variable initializations:\n",
      "  biofilm = 0.05;\n",
      "  vitality = 0.1;\n",
      "\n",
      "  // Other declarations:\n",
      "  var oxidation;\n",
      "  const biofilm, vitality;\n",
      "end\n",
      "\n",
      "\n",
      "Current integrator: \n",
      " < roadrunner.Integrator() >\n",
      "  name: cvode\n",
      "  settings:\n",
      "      relative_tolerance: 0.000001\n",
      "      absolute_tolerance: 0.000000000001\n",
      "                   stiff: true\n",
      "       maximum_bdf_order: 5\n",
      "     maximum_adams_order: 12\n",
      "       maximum_num_steps: 20000\n",
      "       maximum_time_step: 0\n",
      "       minimum_time_step: 0\n",
      "       initial_time_step: 0\n",
      "          multiple_steps: false\n",
      "      variable_step_size: false\n",
      "         max_output_rows: 100000\n",
      "\n"
     ]
    },
    {
     "data": {
      "text/plain": [
       "<Figure size 432x288 with 0 Axes>"
      ]
     },
     "metadata": {},
     "output_type": "display_data"
    },
    {
     "data": {
      "image/png": "[encoded data removed]",
      "text/plain": [
       "<Figure size 648x432 with 1 Axes>"
      ]
     },
     "metadata": {},
     "output_type": "display_data"
    }
   ],
   "source": [
    "import os\n",
    "%run ../pdipy/core.py\n",
    "\n",
    "cwd = os.getcwd()\n",
    "pdi = PDIBacterialPkg()\n",
    "light = pdi.define(bacterial_species = 'Saureus', porphyrin_selection = 'A3B_4Zn', porphyrin_conc = 1, light_source = 'LED', irradiance = 37.92)\n",
    "pdi.simulate(light, total_time = 600, timestep = 10, kinetc_constant = 1, omex_file_path = cwd)\n",
    "\n",
    "%matplotlib inline"
   ]
  },
  {
   "cell_type": "code",
   "execution_count": null,
   "metadata": {},
   "outputs": [],
   "source": []
  },
  {
   "cell_type": "code",
   "execution_count": null,
   "metadata": {},
   "outputs": [],
   "source": []
  },
  {
   "cell_type": "code",
   "execution_count": null,
   "metadata": {},
   "outputs": [],
   "source": []
  }
 ],
 "metadata": {
  "kernelspec": {
   "display_name": "Python 3",
   "language": "python",
   "name": "python3"
  },
  "language_info": {
   "codemirror_mode": {
    "name": "ipython",
    "version": 3
   },
   "file_extension": ".py",
   "mimetype": "text/x-python",
   "name": "python",
   "nbconvert_exporter": "python",
   "pygments_lexer": "ipython3",
   "version": "3.7.4"
  }
 },
 "nbformat": 4,
 "nbformat_minor": 2
}
