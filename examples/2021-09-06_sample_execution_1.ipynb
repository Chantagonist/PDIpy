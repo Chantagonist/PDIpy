{
 "cells": [
  {
   "cell_type": "markdown",
   "metadata": {},
   "source": [
    "# Execute the module"
   ]
  },
  {
   "cell_type": "code",
   "execution_count": 102,
   "metadata": {},
   "outputs": [
    {
     "ename": "NameError",
     "evalue": "name 'bacterial_specie' is not defined",
     "output_type": "error",
     "traceback": [
      "\u001b[1;31m---------------------------------------------------------------------------\u001b[0m",
      "\u001b[1;31mNameError\u001b[0m                                 Traceback (most recent call last)",
      "\u001b[1;32m<ipython-input-102-29256653ca91>\u001b[0m in \u001b[0;36m<module>\u001b[1;34m\u001b[0m\n\u001b[0;32m      4\u001b[0m \u001b[0mpdi\u001b[0m \u001b[1;33m=\u001b[0m \u001b[0mPDIBacterialPkg\u001b[0m\u001b[1;33m(\u001b[0m\u001b[0mverbose\u001b[0m \u001b[1;33m=\u001b[0m \u001b[1;32mTrue\u001b[0m\u001b[1;33m)\u001b[0m\u001b[1;33m\u001b[0m\u001b[1;33m\u001b[0m\u001b[0m\n\u001b[0;32m      5\u001b[0m \u001b[1;33m\u001b[0m\u001b[0m\n\u001b[1;32m----> 6\u001b[1;33m \u001b[0mpdi\u001b[0m\u001b[1;33m.\u001b[0m\u001b[0mdefine_bacterium\u001b[0m\u001b[1;33m(\u001b[0m\u001b[0mbacterial_specie\u001b[0m\u001b[1;33m)\u001b[0m\u001b[1;33m\u001b[0m\u001b[1;33m\u001b[0m\u001b[0m\n\u001b[0m\u001b[0;32m      7\u001b[0m \u001b[0mpdi\u001b[0m\u001b[1;33m.\u001b[0m\u001b[0mdefine_photosensitizer\u001b[0m\u001b[1;33m(\u001b[0m\u001b[0mphotosensitizer_molar\u001b[0m\u001b[1;33m,\u001b[0m \u001b[0mphotosensitizer\u001b[0m \u001b[1;33m=\u001b[0m \u001b[1;34m'A3B_4Zn'\u001b[0m\u001b[1;33m)\u001b[0m\u001b[1;33m\u001b[0m\u001b[1;33m\u001b[0m\u001b[0m\n\u001b[0;32m      8\u001b[0m \u001b[0mpdi\u001b[0m\u001b[1;33m.\u001b[0m\u001b[0mdefine_light\u001b[0m\u001b[1;33m(\u001b[0m\u001b[0mlight_source\u001b[0m \u001b[1;33m=\u001b[0m \u001b[1;34m'LED'\u001b[0m\u001b[1;33m,\u001b[0m \u001b[0mirradiance\u001b[0m \u001b[1;33m=\u001b[0m \u001b[1;36m37.92\u001b[0m\u001b[1;33m,\u001b[0m\u001b[1;33m)\u001b[0m\u001b[1;33m\u001b[0m\u001b[1;33m\u001b[0m\u001b[0m\n",
      "\u001b[1;31mNameError\u001b[0m: name 'bacterial_specie' is not defined"
     ]
    }
   ],
   "source": [
    "import os\n",
    "%run ../pdipy/core.py\n",
    "\n",
    "pdi = PDIBacterialPkg(verbose = True)\n",
    "\n",
    "pdi.define_bacterium(bacterial_specie)\n",
    "pdi.define_photosensitizer(photosensitizer_molar, photosensitizer = 'A3B_4Zn')\n",
    "pdi.define_light(light_source = 'LED', irradiance = 37.92,)\n",
    "pdi.define_photosensitizer_volume()\n",
    "pdi.singlet_oxygen_calculations(timestep = .010, total_time = 2)\n",
    "pdi.geometric_oxidation()\n",
    "pdi.kinetic_calculation()\n",
    "pdi.export()\n",
    "\n",
    "\n",
    "# pdi.define('Saureus', 'A3B_4Zn', photosensitizer_conc = 1, light_source = 'LED', irradiance = 37.92)\n",
    "# raw_data = pdi.time_to_threshold(timestep = .010, total_time = 2)\n",
    "\n",
    "%matplotlib inline"
   ]
  },
  {
   "cell_type": "code",
   "execution_count": 37,
   "metadata": {},
   "outputs": [
    {
     "name": "stdout",
     "output_type": "stream",
     "text": [
      "{}\n"
     ]
    }
   ],
   "source": [
    "import pdipy\n",
    "\n",
    "pdi = pdipy.PDIBacterialPkg()\n",
    "print(pdi.results)"
   ]
  },
  {
   "cell_type": "code",
   "execution_count": null,
   "metadata": {},
   "outputs": [],
   "source": []
  },
  {
   "cell_type": "markdown",
   "metadata": {},
   "source": [
    "# brainstorming"
   ]
  },
  {
   "cell_type": "code",
   "execution_count": 57,
   "metadata": {},
   "outputs": [
    {
     "name": "stdout",
     "output_type": "stream",
     "text": [
      "// Created by libAntimony v2.12.0.3\n",
      "model *pdi_oxidation()\n",
      "\n",
      "  // Compartments and Species:\n",
      "  species o, so, bcfa, ofa;\n",
      "\n",
      "  // Assignment Rules:\n",
      "  oxidation := ofa/(ofa + bcfa);\n",
      "\n",
      "  // Reactions:\n",
      "  _J0: o -> so; 1e-9*o;\n",
      "  _J1: so + bcfa -> ofa; 12*so*bcfa;\n",
      "\n",
      "  // Species initializations:\n",
      "  o = 130000000000;\n",
      "  so = 0;\n",
      "  bcfa = 1000;\n",
      "  ofa = 0;\n",
      "\n",
      "  // Variable initializations:\n",
      "  biofilm = 0.05;\n",
      "  vitality = 0.1;\n",
      "\n",
      "  // Other declarations:\n",
      "  var oxidation;\n",
      "  const biofilm, vitality;\n",
      "end\n",
      "\n",
      "\n",
      "Current integrator: \n",
      " < roadrunner.Integrator() >\n",
      "  name: cvode\n",
      "  settings:\n",
      "      relative_tolerance: 0.000001\n",
      "      absolute_tolerance: 0.000000000001\n",
      "                   stiff: true\n",
      "       maximum_bdf_order: 5\n",
      "     maximum_adams_order: 12\n",
      "       maximum_num_steps: 20000\n",
      "       maximum_time_step: 0\n",
      "       minimum_time_step: 0\n",
      "       initial_time_step: 0\n",
      "          multiple_steps: false\n",
      "      variable_step_size: false\n",
      "         max_output_rows: 100000\n",
      "\n"
     ]
    },
    {
     "data": {
      "image/png": "[encoded data removed]",
      "text/plain": [
       "<Figure size 648x432 with 1 Axes>"
      ]
     },
     "metadata": {},
     "output_type": "display_data"
    }
   ],
   "source": [
    "import tellurium\n",
    "\n",
    "# define the first equation\n",
    "k_so = 1e-9\n",
    "mo = 1.3e11\n",
    "\n",
    "# define the second equation\n",
    "k = 12\n",
    "bcfa = 1e3\n",
    "\n",
    "# define constants\n",
    "healing_kinetics = 3\n",
    "biofilm_threshold = .05\n",
    "death_threshold = 0.1\n",
    "\n",
    "# define the SBML model\n",
    "model = (f'''\n",
    "  model pdi_oxidation\n",
    "    # expressions\n",
    "    o -> so;  {k_so}*o\n",
    "    so + bcfa -> ofa; {k}*so*bcfa #- {healing_kinetics}*ofa    # the aggregated photons / second must be programmatically inserted into the rate expression         \n",
    "\n",
    "    # define the first expression \n",
    "    o = {mo}\n",
    "\n",
    "    # define the second expression\n",
    "    so = 0\n",
    "    ofa = 0\n",
    "    bcfa = {bcfa}\n",
    "\n",
    "    # define constants\n",
    "    biofilm = {biofilm_threshold};\n",
    "    vitality = {death_threshold};\n",
    "    oxidation := ofa / (ofa + bcfa);\n",
    "\n",
    "  end\n",
    "''')\n",
    "tellurium_model = tellurium.loada(model)\n",
    "print(tellurium_model.getCurrentAntimony())\n",
    "print('\\nCurrent integrator:', '\\n', tellurium_model.integrator)\n",
    "\n",
    "\n",
    "# define the SEDML plot\n",
    "initial_time = 20\n",
    "final_time = 5000\n",
    "total_points = 20\n",
    "phrasedml_str = '''\n",
    "  model1 = model \"pdi_oxidation\"\n",
    "  sim1 = simulate uniform({}, {}, {})\n",
    "  task1 = run sim1 on model1\n",
    "  plot \"Figure 1\" time vs biofilm, vitality, oxidation\n",
    "'''.format(initial_time, final_time, total_points)\n",
    "\n",
    "# create, execute, and export an OMEX file\n",
    "inline_omex = '\\n'.join([model, phrasedml_str])               \n",
    "tellurium.executeInlineOmex(inline_omex)"
   ]
  }
 ],
 "metadata": {
  "kernelspec": {
   "display_name": "Python 3",
   "language": "python",
   "name": "python3"
  },
  "language_info": {
   "codemirror_mode": {
    "name": "ipython",
    "version": 3
   },
   "file_extension": ".py",
   "mimetype": "text/x-python",
   "name": "python",
   "nbconvert_exporter": "python",
   "pygments_lexer": "ipython3",
   "version": "3.7.4"
  }
 },
 "nbformat": 4,
 "nbformat_minor": 2
}
