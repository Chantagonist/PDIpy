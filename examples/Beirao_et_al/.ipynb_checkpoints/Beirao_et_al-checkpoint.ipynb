{
 "cells": [
  {
   "cell_type": "markdown",
   "metadata": {},
   "source": [
    "# Calculate the porphyrin dimensions"
   ]
  },
  {
   "cell_type": "code",
   "execution_count": 1,
   "metadata": {},
   "outputs": [
    {
     "name": "stdout",
     "output_type": "stream",
     "text": [
      "10.346864409554044 Angstroms\n"
     ]
    }
   ],
   "source": [
    "from math import cos, radians\n",
    "\n",
    "def average(num_1, num_2 = None):\n",
    "    if type(num_1) is list:\n",
    "        return sum(num_1) / len(num_1)\n",
    "    else:\n",
    "        if num_2 is not None:\n",
    "            numbers = [num_1, num_2]\n",
    "            average = sum(numbers) / len(numbers)\n",
    "            return average\n",
    "        else:\n",
    "            return num_1\n",
    "\n",
    "# chemical dimensions in Angstroms (as the averages from https://en.wikipedia.org/wiki/Bond_length) and degrees\n",
    "chemical_dimensions = {\n",
    "    'bond':{\n",
    "        'c-c':average(1.2,1.54),\n",
    "        'c-h':average(1.06,1.12),\n",
    "        'c-n':average(1.47,2.1),\n",
    "        'c-f':average(1.34),\n",
    "        'n=n':average(1.23) # https://doi.org/10.1016/B978-0-08-101033-4.00003-6\n",
    "    },\n",
    "    'angle':{\n",
    "        'sp3':109.5,\n",
    "        'sp2':120\n",
    "    }\n",
    "}\n",
    "\n",
    "# abbreviate dimensions\n",
    "cc_bond = chemical_dimensions['bond']['c-c']\n",
    "cn_bond = chemical_dimensions['bond']['c-n']\n",
    "mostly_forward_sp2 = cos(radians(chemical_dimensions['angle']['sp2']-90))\n",
    "less_forward_sp2 = cos(radians(180-chemical_dimensions['angle']['sp2']))\n",
    "\n",
    "# calculate the total molecular length & width\n",
    "center_porphyrin_length = (cc_bond*(3*mostly_forward_sp2 + less_forward_sp2))\n",
    "sp2_extension = (cc_bond * (2 + less_forward_sp2) + cn_bond * (1 + less_forward_sp2))\n",
    "total_length = sp2_extension + center_porphyrin_length\n",
    "print(total_length, 'Angstroms')"
   ]
  },
  {
   "cell_type": "markdown",
   "metadata": {},
   "source": [
    "# Define and execute the simulation"
   ]
  },
  {
   "cell_type": "code",
   "execution_count": null,
   "metadata": {
    "scrolled": false
   },
   "outputs": [
    {
     "name": "stderr",
     "output_type": "stream",
     "text": [
      "C:\\Users\\Andrew Freiburger\\AppData\\Roaming\\Python\\Python37\\site-packages\\hillfit\\fitting.py:63: RuntimeWarning:\n",
      "\n",
      "divide by zero encountered in log10\n",
      "\n",
      "C:\\Users\\Andrew Freiburger\\AppData\\Roaming\\Python\\Python37\\site-packages\\numpy\\core\\function_base.py:144: RuntimeWarning:\n",
      "\n",
      "invalid value encountered in multiply\n",
      "\n",
      "C:\\Users\\Andrew Freiburger\\AppData\\Roaming\\Python\\Python37\\site-packages\\numpy\\core\\function_base.py:154: RuntimeWarning:\n",
      "\n",
      "invalid value encountered in add\n",
      "\n"
     ]
    },
    {
     "name": "stdout",
     "output_type": "stream",
     "text": [
      "[0.007071907137272924, 0.09624536180590798, 0.4048915434227399, 0.7145623247436977, 0.9106502010411436, 1.0209958957234342, 1.0837503676708027, 1.1211114728713176, 1.1444974779334807, 1.1598208460166857, 1.1702673404146051, 1.1776345721679853, 1.1829828152761954, 1.1869630635429376, 1.1899895264224127, 1.1923341806277494, 1.1941806421922778, 1.195655960841151, 1.1968499902176153, 1.1978275312782711, 1.1986361438051933, 1.1993112895963614, 1.1998797908882943, 1.200362200824616, 1.2007744568096377, 1.2011290522327887, 1.20143587910853, 1.201702842275485, 1.2019363126873726, 1.2021414658237624]\n"
     ]
    }
   ],
   "source": [
    "from scipy.constants import micro\n",
    "from uncertainties import ufloat\n",
    "%run ../../pdipy/core.py\n",
    "%matplotlib inline\n",
    "\n",
    "# define photosensitizer parameters\n",
    "photosensitizer = {\n",
    "    'name': '5,10,15,20-tetrakis(1-methylpyridinium-4-yl)porphyrin tetra-iodide',\n",
    "    'mw': {\n",
    "        'value':1186.462   # mass with iodides included, sans iodides 678.84,\n",
    "    },\n",
    "    'dimensions':{\n",
    "        'length (A)': total_length,\n",
    "        'width (A)': total_length,\n",
    "        'depth (A)': 1.5,\n",
    "        'shape': 'disc',\n",
    "    }\n",
    "}\n",
    "\n",
    "# define the light parameters\n",
    "irradiance = 4\n",
    "light_source = {\n",
    "    'name': 'OSRAM 2\\' 18W/840 lamps',\n",
    "    \"visible_proportion\": {\n",
    "      \"value\": (700-390)/(700-380),\n",
    "    }\n",
    "}\n",
    "\n",
    "\n",
    "# define general parameters\n",
    "verbose = True\n",
    "jupyter = True\n",
    "bacterial_cfu_ml = 1E8\n",
    "timestep = 2\n",
    "total_time = 60\n",
    "bacterial_specie = 'S_aureus'\n",
    "photosensitizer_molars = [5*micro, 10*micro, 20*micro]\n",
    "export_name = 'Beirao_et_al, solution'\n",
    "\n",
    "# execute the simulation\n",
    "target_reduction = 1-10**(-7.6)\n",
    "for photosensitizer_molar in photosensitizer_molars:\n",
    "    pdi = PDIBacterialPkg(verbose, jupyter)\n",
    "    pdi.define_system(timestep, total_time, bacterial_cfu_ml = bacterial_cfu_ml)\n",
    "    pdi.define_bacterium(bacterial_specie)\n",
    "    pdi.define_photosensitizer(photosensitizer, photosensitizer_molar)\n",
    "    pdi.define_light(light_source, irradiance)\n",
    "    pdi.singlet_oxygen_calculations()\n",
    "    pdi.kinetic_calculation()\n",
    "    processed_data = pdi.data_processing()\n",
    "    pdi.export(export_name)\n",
    "    display(processed_data)\n",
    "\n",
    "    # affirm the accuracy of the prediction\n",
    "    value, unit = pdi.data_parsing(target_reduction)    \n",
    "    if value is not None:\n",
    "        print(value, unit)\n",
    "        actual_value = 1\n",
    "        tolerance = actual_value*0.5\n",
    "        acceptable_range = [actual_value-tolerance, actual_value+tolerance]\n",
    "        acceptable_range_float = ufloat(actual_value, tolerance)\n",
    "        if acceptable_range[0] < value < acceptable_range[1]:\n",
    "            print(f'The prediction of {value} is within the {acceptable_range_float} tolerance of the actual value.')\n",
    "        else:\n",
    "            print(f'--> ERROR: The prediction of {value} is not within the {acceptable_range_float} tolerance of the actual value.')\n",
    "    else:\n",
    "        print('--> ERROR: The value was never observed in the simulation predictions.')\n",
    "    print('\\n\\n\\n\\n')"
   ]
  }
 ],
 "metadata": {
  "kernelspec": {
   "display_name": "Python 3",
   "language": "python",
   "name": "python3"
  },
  "language_info": {
   "codemirror_mode": {
    "name": "ipython",
    "version": 3
   },
   "file_extension": ".py",
   "mimetype": "text/x-python",
   "name": "python",
   "nbconvert_exporter": "python",
   "pygments_lexer": "ipython3",
   "version": "3.7.4"
  }
 },
 "nbformat": 4,
 "nbformat_minor": 2
}
